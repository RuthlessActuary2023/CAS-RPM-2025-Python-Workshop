{
  "cells": [
    {
      "cell_type": "markdown",
      "metadata": {
        "id": "view-in-github",
        "colab_type": "text"
      },
      "source": [
        "<a href=\"https://colab.research.google.com/github/RuthlessActuary2023/CAS-RPM-2025-Python-Workshop/blob/main/2025_CAS_RPM_Python_Lesson_4.ipynb\" target=\"_parent\"><img src=\"https://colab.research.google.com/assets/colab-badge.svg\" alt=\"Open In Colab\"/></a>"
      ]
    },
    {
      "cell_type": "markdown",
      "source": [
        "# Lesson 4: Visualizing Data - Basic Maps"
      ],
      "metadata": {
        "id": "_8pe-gCxZcES"
      },
      "id": "_8pe-gCxZcES"
    },
    {
      "cell_type": "markdown",
      "source": [
        "## Import packages & data"
      ],
      "metadata": {
        "id": "I0_hUI8sZb1i"
      },
      "id": "I0_hUI8sZb1i"
    },
    {
      "cell_type": "code",
      "execution_count": null,
      "metadata": {
        "id": "MaOVVC4CZCKI"
      },
      "outputs": [],
      "source": [
        "import pandas as pd\n",
        "import numpy as np\n",
        "\n",
        "pd.set_option(\"display.max_columns\",25)\n",
        "pd.set_option(\"display.max_rows\",250)\n",
        "pd.options.display.float_format = '{:,.2f}'.format\n",
        "\n",
        "from IPython.display import display, HTML\n",
        "\n",
        "display(HTML(data=\"\"\"\n",
        "<style>\n",
        "    div#notebook-container    { width: 90%; }\n",
        "    div#menubar-container     { width: 65%; }\n",
        "    div#maintoolbar-container { width: 99%; }\n",
        "</style>\n",
        "\"\"\"))\n",
        "\n",
        "import matplotlib.pyplot as plt\n",
        "\n",
        "from __future__ import print_function\n",
        "from ipywidgets import interact, interactive, fixed, interact_manual\n",
        "import ipywidgets as widgets"
      ],
      "id": "MaOVVC4CZCKI"
    },
    {
      "cell_type": "code",
      "source": [
        "# Code to clone the github repo into colab\n",
        "!pip install gitpython\n",
        "import git\n",
        "import os\n",
        "\n",
        "repo_url = 'https://github.com/RuthlessActuary2023/CAS-RPM-2025-Python-Workshop.git'\n",
        "repo_dir = '/content/your-repo'\n",
        "\n",
        "# Clone if it doesn’t already exist\n",
        "if not os.path.exists(repo_dir):\n",
        "    git.Repo.clone_from(repo_url, repo_dir)"
      ],
      "metadata": {
        "id": "dDs5DVSjZm3O"
      },
      "id": "dDs5DVSjZm3O",
      "execution_count": null,
      "outputs": []
    },
    {
      "cell_type": "code",
      "execution_count": null,
      "metadata": {
        "id": "d81Eb8lXZCKW"
      },
      "outputs": [],
      "source": [
        "repo_dir = '/content/your-repo'\n",
        "data5 = pd.read_feather(repo_dir + '/data5.ftr')"
      ],
      "id": "d81Eb8lXZCKW"
    },
    {
      "cell_type": "code",
      "execution_count": null,
      "metadata": {
        "scrolled": true,
        "collapsed": true,
        "id": "DcHd9ByeZCKY"
      },
      "outputs": [],
      "source": [
        "[i for i in data5.columns]"
      ],
      "id": "DcHd9ByeZCKY"
    },
    {
      "cell_type": "markdown",
      "source": [
        "## Function to create weighted average of value by zip code"
      ],
      "metadata": {
        "id": "sqjKjKWuaM3a"
      },
      "id": "sqjKjKWuaM3a"
    },
    {
      "cell_type": "code",
      "execution_count": null,
      "metadata": {
        "id": "JV8UDQuDZCKZ"
      },
      "outputs": [],
      "source": [
        "### Let's make a function which will output the weighted average values by zip code for the given field\n",
        "def wtd_avg_val_by_zip(data,field):\n",
        "    global x, y, z\n",
        "    x = data.groupby(['zip',field]).agg({'ee_bi': 'sum'}).reset_index()\n",
        "    y = data.groupby(['zip']).agg({'ee_bi': 'sum'}).reset_index()\n",
        "    y.rename(columns = {'ee_bi': 'ee_bi_tot'}, inplace = True)\n",
        "\n",
        "    z = x.merge(y, on = ['zip'])\n",
        "\n",
        "    z['sp'] = z[field]*z['ee_bi']\n",
        "\n",
        "    z2 = z.groupby(['zip']).agg({'sp': 'sum', 'ee_bi': 'sum'}).reset_index()\n",
        "    z2['wtd_avg_val'] = z2['sp']/z2['ee_bi']\n",
        "\n",
        "    z2 = z2[(['zip','wtd_avg_val'])]\n",
        "\n",
        "    return z2"
      ],
      "id": "JV8UDQuDZCKZ"
    },
    {
      "cell_type": "code",
      "execution_count": null,
      "metadata": {
        "id": "rw7mxAseZCKc"
      },
      "outputs": [],
      "source": [],
      "id": "rw7mxAseZCKc"
    },
    {
      "cell_type": "markdown",
      "metadata": {
        "id": "cC22DDuzZCKd"
      },
      "source": [
        "## Plotly vs Folium"
      ],
      "id": "cC22DDuzZCKd"
    },
    {
      "cell_type": "markdown",
      "source": [
        "Plotly gives hover info, is a little bit easier to get started with, and allows the user to save maps in current zoom as a picture with a mouse click"
      ],
      "metadata": {
        "id": "40QKHwiUau4W"
      },
      "id": "40QKHwiUau4W"
    },
    {
      "cell_type": "markdown",
      "source": [
        "Folium has background cities, streets, land features\n",
        "Folium may render, scroll, and zoom faster\n",
        "Folium has code to save as HTML\n",
        "Folium out of the box does not come with hover info (we will add it ourselves next lesson)"
      ],
      "metadata": {
        "id": "pm9u5woha52o"
      },
      "id": "pm9u5woha52o"
    },
    {
      "cell_type": "markdown",
      "metadata": {
        "id": "Uk1CNoI-ZCKq"
      },
      "source": [
        "## Plotly Express Map"
      ],
      "id": "Uk1CNoI-ZCKq"
    },
    {
      "cell_type": "code",
      "source": [
        "wtd_avg_val_by_zip(data5,'credit')"
      ],
      "metadata": {
        "id": "HpjdMqNiap2F",
        "collapsed": true
      },
      "id": "HpjdMqNiap2F",
      "execution_count": null,
      "outputs": []
    },
    {
      "cell_type": "code",
      "execution_count": null,
      "metadata": {
        "collapsed": true,
        "id": "a8a0wiWnZCKr"
      },
      "outputs": [],
      "source": [
        "### Part 1 - basic ploty express ###\n",
        "import plotly.express as px\n",
        "from urllib.request import urlopen\n",
        "import json\n",
        "\n",
        "repo_dir = '/content/your-repo'\n",
        "\n",
        "field = 'credit'\n",
        "with open(repo_dir + '/oh_ohio_zip_codes_geo.min.json') as f:\n",
        "    zips_json = json.load(f)\n",
        "\n",
        "fig = px.choropleth(wtd_avg_val_by_zip(data5,field),\n",
        "                    geojson = zips_json,\n",
        "                    locations='zip',\n",
        "                    color='wtd_avg_val',\n",
        "                    color_continuous_scale=\"reds\",\n",
        "                    featureidkey = 'properties.ZCTA5CE10',\n",
        "                    scope = 'usa',\n",
        "                    fitbounds = 'locations'\n",
        "                          )\n",
        "\n",
        "### Part 2 - adding title\n",
        "\n",
        "fig.update_layout(\n",
        "        title_text = 'Weighted Avg ' + field + ' by Zip Code',\n",
        "        title_x=0.5,\n",
        "    )\n",
        "\n",
        "# ### Part 3 - manually adding city markers\n",
        "\n",
        "cities = pd.read_csv('https://raw.githubusercontent.com/plotly/datasets/master/2014_us_cities.csv')\n",
        "ohio_cities = cities.loc[cities['name'].isin(['Columbus ','Cleveland ','Cincinnati ','Toledo ','Akron '])]\n",
        "ohio_cities = ohio_cities[(['name','lat','lon'])].drop_duplicates()\n",
        "\n",
        "import plotly.graph_objects as go\n",
        "\n",
        "fig.add_trace(go.Scattergeo(\n",
        "    lat=ohio_cities['lat'],\n",
        "    lon=ohio_cities['lon'],\n",
        "    mode=\"markers+text\",\n",
        "    marker={\n",
        "        \"color\": \"Black\",\n",
        "        \"line\": {\n",
        "            \"width\": 1\n",
        "        },\n",
        "        \"size\": 8\n",
        "    },\n",
        "    text=ohio_cities['name'],\n",
        "    textfont={\n",
        "        \"color\": \"Black\",\n",
        "        \"family\": \"Arial Black\",\n",
        "        \"size\": 14\n",
        "    },\n",
        "    textposition=\"top center\"\n",
        "))\n",
        "\n",
        "fig.show()\n",
        "\n",
        "### state zip code geojson files; may not be totally up to date\n",
        "# https://github.com/OpenDataDE/State-zip-code-GeoJSON\n",
        "\n",
        "### color scales for plotly express\n",
        "# https://plotly.com/python/builtin-colorscales/#named-builtin-continuous-color-scales"
      ],
      "id": "a8a0wiWnZCKr"
    },
    {
      "cell_type": "code",
      "execution_count": null,
      "metadata": {
        "id": "sN1fx397ZCKu"
      },
      "outputs": [],
      "source": [],
      "id": "sN1fx397ZCKu"
    },
    {
      "cell_type": "markdown",
      "metadata": {
        "id": "JgJuK7QxZCKz"
      },
      "source": [
        "## GeoJSON structure"
      ],
      "id": "JgJuK7QxZCKz"
    },
    {
      "cell_type": "code",
      "execution_count": null,
      "metadata": {
        "id": "PtcAhco9ZCKz"
      },
      "outputs": [],
      "source": [
        "# geojson is a dictionary format which is structured in some way\n",
        "[i for i in zips_json]"
      ],
      "id": "PtcAhco9ZCKz"
    },
    {
      "cell_type": "code",
      "execution_count": null,
      "metadata": {
        "id": "4UDskV7tZCK1"
      },
      "outputs": [],
      "source": [
        "zips_json['type']"
      ],
      "id": "4UDskV7tZCK1"
    },
    {
      "cell_type": "code",
      "execution_count": null,
      "metadata": {
        "scrolled": true,
        "collapsed": true,
        "id": "9CYkeTFRZCK2"
      },
      "outputs": [],
      "source": [
        "# grab the first feature of the json - this looks like it's a list which we can see because of the bracket\n",
        "zips_json['features'][0:1]"
      ],
      "id": "9CYkeTFRZCK2"
    },
    {
      "cell_type": "code",
      "execution_count": null,
      "metadata": {
        "id": "nGoXo3WYZCK3"
      },
      "outputs": [],
      "source": [
        "# how many zips are there?\n",
        "len(zips_json['features'])"
      ],
      "id": "nGoXo3WYZCK3"
    },
    {
      "cell_type": "code",
      "execution_count": null,
      "metadata": {
        "id": "JeaxTJ3CZCK5"
      },
      "outputs": [],
      "source": [
        "# why are the features lists?  are there multiple zip codes per feature?\n",
        "multi_item_counter = 0\n",
        "\n",
        "for i in range(len(zips_json['features'])):\n",
        "    if len(zips_json['features'][i:i+1]) > 1:\n",
        "        multi_item_counter += 1\n",
        "\n",
        "    print(str(i) + '   ', end = '\\r')\n",
        "\n",
        "print('       ')\n",
        "print(multi_item_counter)"
      ],
      "id": "JeaxTJ3CZCK5"
    },
    {
      "cell_type": "code",
      "execution_count": null,
      "metadata": {
        "id": "P8abL58MZCK6"
      },
      "outputs": [],
      "source": [],
      "id": "P8abL58MZCK6"
    },
    {
      "cell_type": "markdown",
      "metadata": {
        "id": "h3xubfA1ZCK6"
      },
      "source": [
        "## Folium Map"
      ],
      "id": "h3xubfA1ZCK6"
    },
    {
      "cell_type": "code",
      "execution_count": null,
      "metadata": {
        "collapsed": true,
        "id": "1fWcz7qAZCK6"
      },
      "outputs": [],
      "source": [
        "import folium\n",
        "import json\n",
        "\n",
        "field = 'credit'\n",
        "# change to string for folium to merge on\n",
        "zip_data = wtd_avg_val_by_zip(data5,field)\n",
        "zip_data['zip'] = zip_data['zip'].astype('str')\n",
        "\n",
        "# proceed\n",
        "repo_dir = '/content/your-repo'\n",
        "with open(repo_dir + '/oh_ohio_zip_codes_geo.min.json') as f:\n",
        "    zips_json = json.load(f)\n",
        "\n",
        "# declare map object with location and zoom level\n",
        "# stroke = False to disable borders\n",
        "# prefer_canvas = True can increase performance in some cases so I use it by default\n",
        "m = folium.Map(location = [40, -83], zoom_start = 8, stroke = False, prefer_canvas=True)\n",
        "\n",
        "choro = folium.Choropleth(\n",
        "        geo_data = zips_json,\n",
        "        data = zip_data,\n",
        "        columns = ['zip','wtd_avg_val'],\n",
        "        key_on = 'feature.properties.ZCTA5CE10',\n",
        "        fill_color = 'YlOrRd',\n",
        "        nan_fill_color = 'gray',\n",
        "        fill_opacity = 0.5,\n",
        "        line_opacity = 0.0,\n",
        "        legend_name= field,\n",
        "    )\n",
        "\n",
        "choro.add_to(m)\n",
        "\n",
        "# Title\n",
        "title = 'Weighted Avg ' + field + ' by Zip Code'\n",
        "title_html = '''\n",
        "             <h3 align=\"center\" style=\"font-size:16px\"><b>{}</b></h3>\n",
        "             '''.format(title)\n",
        "m.get_root().html.add_child(folium.Element(title_html))\n",
        "\n",
        "m\n",
        "\n",
        "### Folium documentation\n",
        "# https://python-visualization.github.io/folium/modules.html"
      ],
      "id": "1fWcz7qAZCK6"
    },
    {
      "cell_type": "code",
      "execution_count": null,
      "metadata": {
        "id": "np2HkHsfZCK7"
      },
      "outputs": [],
      "source": [],
      "id": "np2HkHsfZCK7"
    },
    {
      "cell_type": "code",
      "execution_count": null,
      "metadata": {
        "id": "C14NxFU9ZCK8"
      },
      "outputs": [],
      "source": [],
      "id": "C14NxFU9ZCK8"
    },
    {
      "cell_type": "markdown",
      "metadata": {
        "id": "v5DT7wk9ZCK9"
      },
      "source": [
        "### Folium Map with function"
      ],
      "id": "v5DT7wk9ZCK9"
    },
    {
      "cell_type": "markdown",
      "source": [
        "### Define Function"
      ],
      "metadata": {
        "id": "iazs1Zz5dmSL"
      },
      "id": "iazs1Zz5dmSL"
    },
    {
      "cell_type": "code",
      "execution_count": null,
      "metadata": {
        "id": "CYrkouhUZCK9"
      },
      "outputs": [],
      "source": [
        "# Folium map as a function\n",
        "import folium\n",
        "\n",
        "repo_dir = '/content/your-repo'\n",
        "with open(repo_dir + '/oh_ohio_zip_codes_geo.min.json') as f:\n",
        "    zips_json = json.load(f)\n",
        "\n",
        "def folium_map(data,field):\n",
        "    zip_data = wtd_avg_val_by_zip(data,field)\n",
        "    zip_data['zip'] = zip_data['zip'].astype('str')\n",
        "\n",
        "    m = folium.Map(location = [40, -83], zoom_start = 8, stroke = False, prefer_canvas=True)\n",
        "\n",
        "    choro = folium.Choropleth(\n",
        "            geo_data = zips_json,\n",
        "            data = zip_data,\n",
        "            columns = ['zip','wtd_avg_val'],\n",
        "            key_on = 'feature.properties.ZCTA5CE10',\n",
        "            fill_color = 'YlOrRd',\n",
        "            nan_fill_color = 'gray',\n",
        "            fill_opacity = 0.5,\n",
        "            line_opacity = 0.0,\n",
        "            legend_name= field,\n",
        "        )\n",
        "\n",
        "    choro.add_to(m)\n",
        "\n",
        "    # Title\n",
        "    title = 'Weighted Avg ' + field + ' by Zip Code'\n",
        "    title_html = '''\n",
        "                 <h3 align=\"center\" style=\"font-size:16px\"><b>{}</b></h3>\n",
        "                 '''.format(title)\n",
        "    m.get_root().html.add_child(folium.Element(title_html))\n",
        "\n",
        "    return m"
      ],
      "id": "CYrkouhUZCK9"
    },
    {
      "cell_type": "markdown",
      "source": [
        "### Check that function works"
      ],
      "metadata": {
        "id": "s7uiS-oqdql4"
      },
      "id": "s7uiS-oqdql4"
    },
    {
      "cell_type": "code",
      "execution_count": null,
      "metadata": {
        "collapsed": true,
        "id": "FEgWoEIwZCLA"
      },
      "outputs": [],
      "source": [
        "folium_map(data5,'pop_density_ntile')"
      ],
      "id": "FEgWoEIwZCLA"
    },
    {
      "cell_type": "markdown",
      "source": [
        "### Turn into a widget"
      ],
      "metadata": {
        "id": "JB7YlssPd4KA"
      },
      "id": "JB7YlssPd4KA"
    },
    {
      "cell_type": "code",
      "source": [
        "fields = [i for i in data5.columns if i not in ['pol_eff_year','ep_bi','ep_col','ee_bi','ee_col','incloss_bi','incloss_col','cc_bi','cc_col','zip','pol_id','vin_id']]\n",
        "\n",
        "from __future__ import print_function\n",
        "import ipywidgets as widgets\n",
        "from ipywidgets import interact, interactive, fixed, interact_manual\n",
        "\n",
        "\n",
        "def f(field):\n",
        "    return folium_map(data5,field)\n",
        "\n",
        "interact(f, field = fields);"
      ],
      "metadata": {
        "collapsed": true,
        "id": "xF25a8w8d3qR"
      },
      "id": "xF25a8w8d3qR",
      "execution_count": null,
      "outputs": []
    },
    {
      "cell_type": "code",
      "execution_count": null,
      "metadata": {
        "id": "Qd4ff6jcZCLB"
      },
      "outputs": [],
      "source": [
        "### Saving your map HTML\n",
        "# m.save('save_path/save_name.html')"
      ],
      "id": "Qd4ff6jcZCLB"
    },
    {
      "cell_type": "markdown",
      "metadata": {
        "id": "1aYSk7A6ZCLC"
      },
      "source": [
        "### Lesson 4 Exercise 1\n",
        "#### Make a new function to create Collision claim frequency by zip\n",
        "#### Copy and paste the plotly map cell and modify it to create a map of this claim frequency by zip\n",
        "#### Turn this code into a widget like was done with Folium above"
      ],
      "id": "1aYSk7A6ZCLC"
    },
    {
      "cell_type": "code",
      "execution_count": null,
      "metadata": {
        "id": "BV7sflZjZCLE"
      },
      "outputs": [],
      "source": [],
      "id": "BV7sflZjZCLE"
    },
    {
      "cell_type": "code",
      "execution_count": null,
      "metadata": {
        "id": "AKnjGAkSZCLF"
      },
      "outputs": [],
      "source": [],
      "id": "AKnjGAkSZCLF"
    },
    {
      "cell_type": "code",
      "execution_count": null,
      "metadata": {
        "id": "9Kxgoo1_ZCLG"
      },
      "outputs": [],
      "source": [],
      "id": "9Kxgoo1_ZCLG"
    },
    {
      "cell_type": "code",
      "execution_count": null,
      "metadata": {
        "id": "X5kLd-XfZCLG"
      },
      "outputs": [],
      "source": [],
      "id": "X5kLd-XfZCLG"
    },
    {
      "cell_type": "code",
      "execution_count": null,
      "metadata": {
        "id": "_Y2T-LLTZCLH"
      },
      "outputs": [],
      "source": [],
      "id": "_Y2T-LLTZCLH"
    },
    {
      "cell_type": "code",
      "execution_count": null,
      "metadata": {
        "id": "MObiGZbCZCLH"
      },
      "outputs": [],
      "source": [],
      "id": "MObiGZbCZCLH"
    }
  ],
  "metadata": {
    "kernelspec": {
      "display_name": "Python 3",
      "language": "python",
      "name": "python3"
    },
    "language_info": {
      "codemirror_mode": {
        "name": "ipython",
        "version": 3
      },
      "file_extension": ".py",
      "mimetype": "text/x-python",
      "name": "python",
      "nbconvert_exporter": "python",
      "pygments_lexer": "ipython3",
      "version": "3.8.5"
    },
    "colab": {
      "provenance": [],
      "collapsed_sections": [
        "I0_hUI8sZb1i",
        "sqjKjKWuaM3a",
        "cC22DDuzZCKd",
        "Uk1CNoI-ZCKq",
        "JgJuK7QxZCKz",
        "h3xubfA1ZCK6",
        "JB7YlssPd4KA"
      ],
      "include_colab_link": true
    }
  },
  "nbformat": 4,
  "nbformat_minor": 5
}