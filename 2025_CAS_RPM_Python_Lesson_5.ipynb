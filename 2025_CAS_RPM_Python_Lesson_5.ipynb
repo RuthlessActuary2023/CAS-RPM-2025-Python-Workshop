{
  "cells": [
    {
      "cell_type": "markdown",
      "metadata": {
        "id": "view-in-github",
        "colab_type": "text"
      },
      "source": [
        "<a href=\"https://colab.research.google.com/github/RuthlessActuary2023/CAS-RPM-2025-Python-Workshop/blob/main/2025_CAS_RPM_Python_Lesson_5.ipynb\" target=\"_parent\"><img src=\"https://colab.research.google.com/assets/colab-badge.svg\" alt=\"Open In Colab\"/></a>"
      ]
    },
    {
      "cell_type": "markdown",
      "source": [
        "# Lesson 5: Visualizing Data - Advanced Folium Map"
      ],
      "metadata": {
        "id": "bNXEKC8Ie63e"
      },
      "id": "bNXEKC8Ie63e"
    },
    {
      "cell_type": "markdown",
      "source": [
        "## Import packages & data"
      ],
      "metadata": {
        "id": "xEH6-ex3e6a9"
      },
      "id": "xEH6-ex3e6a9"
    },
    {
      "cell_type": "code",
      "execution_count": null,
      "metadata": {
        "id": "Q2zJNbEJex2w"
      },
      "outputs": [],
      "source": [
        "import pandas as pd\n",
        "import numpy as np\n",
        "\n",
        "pd.set_option(\"display.max_columns\",25)\n",
        "pd.set_option(\"display.max_rows\",250)\n",
        "pd.options.display.float_format = '{:,.2f}'.format\n",
        "\n",
        "from IPython.display import display, HTML\n",
        "\n",
        "display(HTML(data=\"\"\"\n",
        "<style>\n",
        "    div#notebook-container    { width: 90%; }\n",
        "    div#menubar-container     { width: 65%; }\n",
        "    div#maintoolbar-container { width: 99%; }\n",
        "</style>\n",
        "\"\"\"))\n",
        "\n",
        "import matplotlib.pyplot as plt\n",
        "\n",
        "from __future__ import print_function\n",
        "from ipywidgets import interact, interactive, fixed, interact_manual\n",
        "import ipywidgets as widgets\n",
        "\n",
        "from urllib.request import urlopen\n",
        "import json"
      ],
      "id": "Q2zJNbEJex2w"
    },
    {
      "cell_type": "code",
      "source": [
        "# Code to clone the github repo into colab\n",
        "!pip install gitpython\n",
        "import git\n",
        "import os\n",
        "\n",
        "repo_url = 'https://github.com/RuthlessActuary2023/CAS-RPM-2025-Python-Workshop.git'\n",
        "repo_dir = '/content/your-repo'\n",
        "\n",
        "# Clone if it doesn’t already exist\n",
        "if not os.path.exists(repo_dir):\n",
        "    git.Repo.clone_from(repo_url, repo_dir)"
      ],
      "metadata": {
        "id": "sj6ncDXefHLr"
      },
      "id": "sj6ncDXefHLr",
      "execution_count": null,
      "outputs": []
    },
    {
      "cell_type": "code",
      "execution_count": null,
      "metadata": {
        "id": "ySO4Iyx1ex2-"
      },
      "outputs": [],
      "source": [
        "repo_dir = '/content/your-repo'\n",
        "data5 = pd.read_feather(repo_dir + '/data5.ftr')"
      ],
      "id": "ySO4Iyx1ex2-"
    },
    {
      "cell_type": "code",
      "execution_count": null,
      "metadata": {
        "scrolled": true,
        "collapsed": true,
        "id": "fcIS-g5sex3A"
      },
      "outputs": [],
      "source": [
        "[i for i in data5.columns]"
      ],
      "id": "fcIS-g5sex3A"
    },
    {
      "cell_type": "code",
      "execution_count": null,
      "metadata": {
        "id": "1dd6OtmIex3C"
      },
      "outputs": [],
      "source": [
        "### Function to make useful Collision stats\n",
        "facts = ['ee_col','incloss_col','cc_col','ep_col']\n",
        "\n",
        "def stats_by_zip(data):\n",
        "    z = data.groupby(['zip']).agg({f: 'sum' for f in facts}).reset_index()\n",
        "\n",
        "    z['incloss_col'] = np.where(z['incloss_col'] < 0, 0, z['incloss_col'])\n",
        "\n",
        "    z['Exposure %'] = z['ee_col']/z['ee_col'].sum()\n",
        "    z['Frequency'] = round(z['cc_col']/z['ee_col'],3)\n",
        "    z['Severity'] = round(z['incloss_col']/z['cc_col'],0)\n",
        "    z['Pure Premium'] = round(z['incloss_col']/z['ee_col'],0)\n",
        "    z['Loss Ratio'] = round(z['incloss_col']/z['ep_col'],0)\n",
        "\n",
        "    return z[(['zip','Exposure %','Frequency','Severity','Pure Premium','Loss Ratio'])]"
      ],
      "id": "1dd6OtmIex3C"
    },
    {
      "cell_type": "code",
      "execution_count": null,
      "metadata": {
        "collapsed": true,
        "id": "z_Yff_eFex3E"
      },
      "outputs": [],
      "source": [
        "stats_by_zip(data5)"
      ],
      "id": "z_Yff_eFex3E"
    },
    {
      "cell_type": "markdown",
      "metadata": {
        "id": "qJoC_mRWex3L"
      },
      "source": [
        "## Folium Map + modifications"
      ],
      "id": "qJoC_mRWex3L"
    },
    {
      "cell_type": "code",
      "execution_count": null,
      "metadata": {
        "id": "FSeGzM8oex3Q"
      },
      "outputs": [],
      "source": [
        "path = 'C:/Users/marcusdeckert/Box/marcusdeckert/Presentation Work/CARFAX Academy/Lesson 5 stuff/'\n",
        "\n",
        "import folium\n",
        "\n",
        "def loss_ratio_folium_map(data):\n",
        "    zip_data = stats_by_zip(data)\n",
        "    zip_data['zip'] = zip_data['zip'].astype('str') #skipped accounting for zip codes with leading 0's because we are doing Ohio\n",
        "\n",
        "    with open(path + 'oh_ohio_zip_codes_geo.min.json') as f:\n",
        "        zips_json = json.load(f)\n",
        "\n",
        "    m = folium.Map(location = [40, -83], zoom_start = 8, stroke = False, prefer_canvas=True)\n",
        "\n",
        "    choro = folium.Choropleth(\n",
        "            geo_data = zips_json,\n",
        "            data = zip_data,\n",
        "            columns = ['zip','Loss Ratio'],\n",
        "            key_on = 'feature.properties.ZCTA5CE10',\n",
        "            fill_color = 'YlOrRd',\n",
        "            nan_fill_color = 'gray',\n",
        "            fill_opacity = 0.5,\n",
        "            line_opacity = 0.0,\n",
        "            legend_name = 'Loss Ratio',\n",
        "        )\n",
        "\n",
        "    choro.add_to(m)\n",
        "\n",
        "    # Title\n",
        "    title = 'Loss Ratio by Zip Code'\n",
        "    title_html = '''\n",
        "                 <h3 align=\"center\" style=\"font-size:16px\"><b>{}</b></h3>\n",
        "                 '''.format(title)\n",
        "    m.get_root().html.add_child(folium.Element(title_html))\n",
        "\n",
        "    return m"
      ],
      "id": "FSeGzM8oex3Q"
    },
    {
      "cell_type": "code",
      "execution_count": null,
      "metadata": {
        "id": "2sM4Dihzex3S"
      },
      "outputs": [],
      "source": [
        "loss_ratio_folium_map(data5)"
      ],
      "id": "2sM4Dihzex3S"
    },
    {
      "cell_type": "code",
      "execution_count": null,
      "metadata": {
        "id": "OOPg2W_fex3T"
      },
      "outputs": [],
      "source": [],
      "id": "OOPg2W_fex3T"
    },
    {
      "cell_type": "code",
      "execution_count": null,
      "metadata": {
        "id": "Pvsm5KQbex3U"
      },
      "outputs": [],
      "source": [
        "# limit to p5 and p95\n",
        "def loss_ratio_folium_map2(data):\n",
        "    zip_data = stats_by_zip(data)\n",
        "    zip_data['zip'] = zip_data['zip'].astype('str')\n",
        "\n",
        "    ### SECTION ADDED\n",
        "    # limit the range of values to p5 and p95\n",
        "\n",
        "    min_val = zip_data['Loss Ratio'].quantile(q = .05)\n",
        "    max_val = zip_data['Loss Ratio'].quantile(q = .95)\n",
        "\n",
        "    zip_data['Loss Ratio Display'] = np.where(\n",
        "        zip_data['Loss Ratio'] < min_val, min_val,\n",
        "        np.where(\n",
        "            zip_data['Loss Ratio'] > max_val, max_val, zip_data['Loss Ratio']\n",
        "        )\n",
        "    )\n",
        "\n",
        "    ### END SECTION ADDED\n",
        "\n",
        "    with open(path + 'oh_ohio_zip_codes_geo.min.json') as f:\n",
        "        zips_json = json.load(f)\n",
        "\n",
        "    m = folium.Map(location = [40, -83], zoom_start = 8, stroke = False, prefer_canvas=True)\n",
        "\n",
        "    choro = folium.Choropleth(\n",
        "            geo_data = zips_json,\n",
        "            data = zip_data,\n",
        "            columns = ['zip','Loss Ratio Display'], ### CHANGED\n",
        "            key_on = 'feature.properties.ZCTA5CE10',\n",
        "            fill_color = 'YlOrRd',\n",
        "            nan_fill_color = 'gray',\n",
        "            fill_opacity = 0.5,\n",
        "            line_opacity = 0.0,\n",
        "            legend_name = 'Loss Ratio',\n",
        "        )\n",
        "\n",
        "    choro.add_to(m)\n",
        "\n",
        "    # Title\n",
        "    title = 'Loss Ratio by Zip Code; p5 to p95'\n",
        "    title_html = '''\n",
        "                 <h3 align=\"center\" style=\"font-size:16px\"><b>{}</b></h3>\n",
        "                 '''.format(title)\n",
        "    m.get_root().html.add_child(folium.Element(title_html))\n",
        "\n",
        "    return m"
      ],
      "id": "Pvsm5KQbex3U"
    },
    {
      "cell_type": "code",
      "execution_count": null,
      "metadata": {
        "id": "ru5SLccdex3V"
      },
      "outputs": [],
      "source": [
        "loss_ratio_folium_map2(data5)"
      ],
      "id": "ru5SLccdex3V"
    },
    {
      "cell_type": "code",
      "execution_count": null,
      "metadata": {
        "id": "Z-8dqw7fex3W"
      },
      "outputs": [],
      "source": [],
      "id": "Z-8dqw7fex3W"
    },
    {
      "cell_type": "code",
      "execution_count": null,
      "metadata": {
        "id": "-gfI9qDUex3W"
      },
      "outputs": [],
      "source": [
        "# change to [0,1]\n",
        "def loss_ratio_folium_map3(data):\n",
        "    zip_data = stats_by_zip(data)\n",
        "    zip_data['zip'] = zip_data['zip'].astype('str')\n",
        "\n",
        "    min_val = 0 ### CHANGED\n",
        "    max_val = 1 ### CHANGED\n",
        "\n",
        "    zip_data['Loss Ratio Display'] = np.where(\n",
        "        zip_data['Loss Ratio'] < min_val, min_val,\n",
        "        np.where(\n",
        "            zip_data['Loss Ratio'] > max_val, max_val, zip_data['Loss Ratio']\n",
        "        )\n",
        "    )\n",
        "\n",
        "    with open(path + 'oh_ohio_zip_codes_geo.min.json') as f:\n",
        "        zips_json = json.load(f)\n",
        "\n",
        "    m = folium.Map(location = [40, -83], zoom_start = 8, stroke = False, prefer_canvas=True)\n",
        "\n",
        "    choro = folium.Choropleth(\n",
        "            geo_data = zips_json,\n",
        "            data = zip_data,\n",
        "            columns = ['zip','Loss Ratio Display'],\n",
        "            key_on = 'feature.properties.ZCTA5CE10',\n",
        "            fill_color = 'YlOrRd',\n",
        "            nan_fill_color = 'gray',\n",
        "            fill_opacity = 0.5,\n",
        "            line_opacity = 0.0,\n",
        "            legend_name = 'Loss Ratio',\n",
        "        )\n",
        "\n",
        "    choro.add_to(m)\n",
        "\n",
        "    # Title\n",
        "    title = 'Loss Ratio by Zip Code; Limit 100%'\n",
        "    title_html = '''\n",
        "                 <h3 align=\"center\" style=\"font-size:16px\"><b>{}</b></h3>\n",
        "                 '''.format(title)\n",
        "    m.get_root().html.add_child(folium.Element(title_html))\n",
        "\n",
        "    return m"
      ],
      "id": "-gfI9qDUex3W"
    },
    {
      "cell_type": "code",
      "execution_count": null,
      "metadata": {
        "id": "xmTiL6Loex3W"
      },
      "outputs": [],
      "source": [
        "loss_ratio_folium_map3(data5)"
      ],
      "id": "xmTiL6Loex3W"
    },
    {
      "cell_type": "markdown",
      "metadata": {
        "id": "NQ4utaSfex3X"
      },
      "source": [
        "## Add Hoverinfo"
      ],
      "id": "NQ4utaSfex3X"
    },
    {
      "cell_type": "code",
      "execution_count": null,
      "metadata": {
        "scrolled": true,
        "id": "d2MqoBTqex3Y",
        "collapsed": true
      },
      "outputs": [],
      "source": [
        "### First, let's look at the geojson again\n",
        "\n",
        "with open(path + 'oh_ohio_zip_codes_geo.min.json') as f:\n",
        "    zips_json = json.load(f)\n",
        "\n",
        "zips_json['features'][0]"
      ],
      "id": "d2MqoBTqex3Y"
    },
    {
      "cell_type": "code",
      "execution_count": null,
      "metadata": {
        "id": "pq-43LxXex3Y",
        "collapsed": true
      },
      "outputs": [],
      "source": [
        "### We need the geojson to contain the needed information so it can be displayed as a \"child\"\n",
        "\n",
        "# We want to have the pop up show Zip, Exposure %,Frequency,Severity,Pure Premium,Loss Ratio\n",
        "\n",
        "# Let's begin by simply adding an element called 'Zip' to a copy of the geojson\n",
        "\n",
        "geo_data = zips_json.copy()\n",
        "for i in range(0,len(geo_data['features']) - 1): # consider refactoring these 2 lines to directly call each element\n",
        "    geo_data['features'][i]['properties']['Zip'] = geo_data['features'][i]['properties']['ZCTA5CE10'] # take this straight from the JSON\n",
        "\n",
        "geo_data['features'][0]"
      ],
      "id": "pq-43LxXex3Y"
    },
    {
      "cell_type": "code",
      "execution_count": null,
      "metadata": {
        "id": "U6zl1-ARex3Z"
      },
      "outputs": [],
      "source": [
        "### We need the other statistics to show in hoverinfo from the dataframe\n",
        "# pick this first zip and grab the values\n",
        "\n",
        "data = stats_by_zip(data5)\n",
        "\n",
        "data.loc[data['zip'] == 45830]"
      ],
      "id": "U6zl1-ARex3Z"
    },
    {
      "cell_type": "code",
      "execution_count": null,
      "metadata": {
        "id": "WeEev311ex3Z"
      },
      "outputs": [],
      "source": [
        "### Get just the Exposure %\n",
        "\n",
        "data.loc[data['zip'] == 45830]['Exposure %'].sum()"
      ],
      "id": "WeEev311ex3Z"
    },
    {
      "cell_type": "code",
      "execution_count": null,
      "metadata": {
        "id": "fYPyvwKoex3a"
      },
      "outputs": [],
      "source": [
        "# format it nicely\n",
        "\n",
        "'{:.1%}'.format(data.loc[data['zip'] == 45830]['Exposure %'].sum())"
      ],
      "id": "fYPyvwKoex3a"
    },
    {
      "cell_type": "code",
      "execution_count": null,
      "metadata": {
        "id": "BsA_uOA9ex3a",
        "collapsed": true
      },
      "outputs": [],
      "source": [
        "### Add the rest of the information now\n",
        "data = stats_by_zip(data5)\n",
        "\n",
        "geo_data = zips_json.copy()\n",
        "for i in range(0,len(geo_data['features']) - 1): # if you redid the one above do this one, too\n",
        "    geo_data['features'][i]['properties']['Zip'] = geo_data['features'][i]['properties']['ZCTA5CE10'] # take this straight from the JSON\n",
        "    geo_data['features'][i]['properties']['Exposure %'] = 'Exposure %: ' + '{:.1%}'.format(data.loc[data['zip'] == geo_data['features'][i]['properties']['Zip']]['Exposure %'].sum())\n",
        "    geo_data['features'][i]['properties']['Frequency'] = 'Frequency: ' + '{:.1%}'.format(data.loc[data['zip'] == geo_data['features'][i]['properties']['Zip']]['Frequency'].sum())\n",
        "    geo_data['features'][i]['properties']['Severity'] = 'Severity: ' + '{:,}'.format(data.loc[data['zip'] == geo_data['features'][i]['properties']['Zip']]['Severity'].sum())\n",
        "    geo_data['features'][i]['properties']['Pure Premium'] = 'Pure Premium: ' + '{:,}'.format(data.loc[data['zip'] == geo_data['features'][i]['properties']['Zip']]['Pure Premium'].sum())\n",
        "    geo_data['features'][i]['properties']['Loss Ratio'] = 'Loss Ratio: ' + '{:.1%}'.format(data.loc[data['zip'] == geo_data['features'][i]['properties']['Zip']]['Loss Ratio'].sum())\n",
        "\n",
        "geo_data['features'][0]"
      ],
      "id": "BsA_uOA9ex3a"
    },
    {
      "cell_type": "code",
      "execution_count": null,
      "metadata": {
        "id": "T8TGreMpex3d"
      },
      "outputs": [],
      "source": [
        "### Add this into the map function and add the child"
      ],
      "id": "T8TGreMpex3d"
    },
    {
      "cell_type": "code",
      "execution_count": null,
      "metadata": {
        "id": "oadre6tWex3f"
      },
      "outputs": [],
      "source": [
        "def loss_ratio_folium_map4(data):\n",
        "    data = stats_by_zip(data) ### Changed\n",
        "    data['zip'] = data['zip'].astype('str') ### Changed\n",
        "\n",
        "    min_val = 0\n",
        "    max_val = 1\n",
        "\n",
        "    ### Changed\n",
        "    data['Loss Ratio Display'] = np.where(\n",
        "        data['Loss Ratio'] < min_val, min_val,\n",
        "        np.where(\n",
        "            data['Loss Ratio'] > max_val, max_val, data['Loss Ratio']\n",
        "        )\n",
        "    )\n",
        "\n",
        "    with open(path + 'oh_ohio_zip_codes_geo.min.json') as f:\n",
        "        zips_json = json.load(f)\n",
        "\n",
        "    ### Added\n",
        "    geo_data = zips_json.copy()\n",
        "    for i in range(0,len(geo_data['features']) - 1):\n",
        "        geo_data['features'][i]['properties']['Zip'] = geo_data['features'][i]['properties']['ZCTA5CE10'] # take this straight from the JSON\n",
        "        geo_data['features'][i]['properties']['Exposure %'] = 'Exposure %: ' + '{:.1%}'.format(data.loc[data['zip'] == geo_data['features'][i]['properties']['Zip']]['Exposure %'].sum())\n",
        "        geo_data['features'][i]['properties']['Frequency'] = 'Frequency: ' + '{:.1%}'.format(data.loc[data['zip'] == geo_data['features'][i]['properties']['Zip']]['Frequency'].sum())\n",
        "        geo_data['features'][i]['properties']['Severity'] = 'Severity: ' + '{:,}'.format(data.loc[data['zip'] == geo_data['features'][i]['properties']['Zip']]['Severity'].sum())\n",
        "        geo_data['features'][i]['properties']['Pure Premium'] = 'Pure Premium: ' + '{:,}'.format(data.loc[data['zip'] == geo_data['features'][i]['properties']['Zip']]['Pure Premium'].sum())\n",
        "        geo_data['features'][i]['properties']['Loss Ratio'] = 'Loss Ratio: ' + '{:.1%}'.format(data.loc[data['zip'] == geo_data['features'][i]['properties']['Zip']]['Loss Ratio'].sum())\n",
        "    ### END Added\n",
        "\n",
        "    m = folium.Map(location = [40, -83], zoom_start = 8, stroke = False, prefer_canvas=True)\n",
        "\n",
        "    choro = folium.Choropleth(\n",
        "            geo_data = geo_data, ### Changed\n",
        "            data = data, ### Changed\n",
        "            columns = ['zip','Loss Ratio Display'],\n",
        "            key_on = 'feature.properties.ZCTA5CE10',\n",
        "            fill_color = 'YlOrRd',\n",
        "            nan_fill_color = 'gray',\n",
        "            fill_opacity = 0.5,\n",
        "            line_opacity = 0.0,\n",
        "            legend_name = 'Loss Ratio',\n",
        "        )\n",
        "\n",
        "    ### Added\n",
        "    for key in choro._children:\n",
        "        if key.startswith('color_map'):\n",
        "            del(choro._children[key])\n",
        "    ### END Added\n",
        "\n",
        "    choro.add_to(m)\n",
        "\n",
        "    ### Added\n",
        "    folium.LayerControl().add_to(m)\n",
        "    choro.geojson.add_child(\n",
        "        folium.features.GeoJsonTooltip(['Zip','Exposure %','Frequency','Severity','Pure Premium','Loss Ratio'], labels=False)\n",
        "    )\n",
        "    ### END Added\n",
        "\n",
        "    # Title\n",
        "    title = 'Loss Ratio by Zip Code; Limit 100%'\n",
        "    title_html = '''\n",
        "                 <h3 align=\"center\" style=\"font-size:16px\"><b>{}</b></h3>\n",
        "                 '''.format(title)\n",
        "    m.get_root().html.add_child(folium.Element(title_html))\n",
        "\n",
        "    return m"
      ],
      "id": "oadre6tWex3f"
    },
    {
      "cell_type": "code",
      "execution_count": null,
      "metadata": {
        "id": "Cr5dLbLpex3h"
      },
      "outputs": [],
      "source": [
        "loss_ratio_folium_map4(data5)"
      ],
      "id": "Cr5dLbLpex3h"
    },
    {
      "cell_type": "markdown",
      "source": [
        "## Accessing more information from the geojson"
      ],
      "metadata": {
        "id": "VR30h-00vjkb"
      },
      "id": "VR30h-00vjkb"
    },
    {
      "cell_type": "code",
      "execution_count": null,
      "metadata": {
        "id": "h0BvrOutex3j"
      },
      "outputs": [],
      "source": [
        "with open(path + 'oh_ohio_zip_codes_geo.min.json') as f:\n",
        "    zips_json = json.load(f)\n",
        "\n",
        "geo_data = zips_json.copy()\n",
        "\n",
        "x = geo_data['features'][0]"
      ],
      "id": "h0BvrOutex3j"
    },
    {
      "cell_type": "code",
      "execution_count": null,
      "metadata": {
        "scrolled": false,
        "id": "-hVGG_Hgex3k"
      },
      "outputs": [],
      "source": [
        "x2 = pd.DataFrame(x).T"
      ],
      "id": "-hVGG_Hgex3k"
    },
    {
      "cell_type": "code",
      "execution_count": null,
      "metadata": {
        "id": "a0wPYmRBex3k"
      },
      "outputs": [],
      "source": [
        "x2"
      ],
      "id": "a0wPYmRBex3k"
    },
    {
      "cell_type": "code",
      "execution_count": null,
      "metadata": {
        "id": "YztBaic4ex3l"
      },
      "outputs": [],
      "source": [
        "zip_df = stats_by_zip(data5)\n",
        "zip_df['zip'] = zip_df['zip'].astype('str')\n",
        "\n",
        "x3 = x2.merge(zip_df, left_on = 'ZCTA5CE10', right_on = 'zip', how = 'left')\n",
        "\n",
        "x3"
      ],
      "id": "YztBaic4ex3l"
    }
  ],
  "metadata": {
    "kernelspec": {
      "display_name": "Python 3",
      "language": "python",
      "name": "python3"
    },
    "language_info": {
      "codemirror_mode": {
        "name": "ipython",
        "version": 3
      },
      "file_extension": ".py",
      "mimetype": "text/x-python",
      "name": "python",
      "nbconvert_exporter": "python",
      "pygments_lexer": "ipython3",
      "version": "3.8.5"
    },
    "colab": {
      "provenance": [],
      "collapsed_sections": [
        "xEH6-ex3e6a9",
        "qJoC_mRWex3L",
        "NQ4utaSfex3X",
        "VR30h-00vjkb"
      ],
      "include_colab_link": true
    }
  },
  "nbformat": 4,
  "nbformat_minor": 5
}